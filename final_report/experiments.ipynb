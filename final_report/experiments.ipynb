{
 "cells": [
  {
   "cell_type": "code",
   "execution_count": 2,
   "metadata": {
    "collapsed": false
   },
   "outputs": [
    {
     "name": "stdout",
     "output_type": "stream",
     "text": [
      "       global_cycle  cycle  observation  reward  action  explore_on  explored  \\\n",
      "19997         19997      2            8       9       2           1         0   \n",
      "19998         19998      3            5       9       2           1         0   \n",
      "19999         19999      1           10      10       1           1         0   \n",
      "20000         20000      2            8       9       2           0         0   \n",
      "20001         20001      3            5       9       2           0         0   \n",
      "\n",
      "       explore_rate_g  total reward  average reward  end of game  game_end  \n",
      "19997        0.039866        257851         10.4596            0         0  \n",
      "19998        0.039857        257860         10.4596            1         0  \n",
      "19999        0.039848        257890         10.4599            0         0  \n",
      "20000        0.039839        257899         10.4599            0         0  \n",
      "20001        0.039839        257908         10.4598            1         0  \n"
     ]
    }
   ],
   "source": [
    "# imports and setup \n",
    "import numpy as np\n",
    "import matplotlib.pyplot as plt\n",
    "% matplotlib inline\n",
    "import pandas as pd\n",
    "import os\n",
    "\n",
    "data = pd.read_csv('../logs/cheesemaze-jarryd-linux-1.csv',sep=', ',engine='python')\n",
    "print data.tail()"
   ]
  },
  {
   "cell_type": "code",
   "execution_count": 12,
   "metadata": {
    "collapsed": false
   },
   "outputs": [
    {
     "name": "stdout",
     "output_type": "stream",
     "text": [
      "../logs/cheesemaze-2.csv\n",
      "../logs/cheesemaze-jar-5.csv\n",
      "../logs/cheesemaze-jarryd-linux-1.csv\n",
      "../logs/cheesemaze-ryk-converge-20k.csv\n",
      "../logs/cheesemaze-ryk-no-prune.csv\n",
      "../logs/cheesemaze-yadu-1.csv\n",
      "../logs/cheesemaze-yadu-2.csv\n",
      "../logs/rockpaper-1.csv\n",
      "../logs/rockpaper-2.csv\n",
      "../logs/rockpaper-3-cheng.csv\n",
      "../logs/rockpaper-3.csv\n",
      "../logs/rockpaper-jarryd-6.csv\n",
      "../logs/rockpaper-jarryd-low-exp-okay.csv\n",
      "../logs/rockpaper-yadu-1.csv\n",
      "../logs/tictactoe-1.csv\n",
      "../logs/tictactoe-jarryd-2.csv\n",
      "../logs/tictactoe-rao-4.csv\n",
      "../logs/tictactoe-ryk-3.csv\n",
      "../logs/tictactoe-ryk-4.csv\n",
      "../logs/tictactoe-ryk.csv\n",
      "../logs/tiger-4-cheng.csv\n",
      "../logs/tiger-5-ryk.csv\n",
      "../logs/tiger-jarryd-2.csv\n",
      "../logs/tiger-john-1.csv\n"
     ]
    }
   ],
   "source": [
    "for file in os.listdir(\"../logs/\"):\n",
    "    if file.endswith(\".csv\"):\n",
    "        print(\"../logs/\"+file)"
   ]
  },
  {
   "cell_type": "code",
   "execution_count": 3,
   "metadata": {
    "collapsed": false
   },
   "outputs": [],
   "source": [
    "df = np.array(data[['cycle','reward','explore_on']])\n",
    "\n",
    "dat = []\n",
    "ave = [0]\n",
    "reward_offset=10\n",
    "jdx = 0\n",
    "for idx in xrange(1,len(df)):\n",
    "    if df[idx,2]==1:\n",
    "        continue\n",
    "    \n",
    "    if df[idx,2] == -1 and df[idx-1,2] == 1:\n",
    "        continue\n",
    "    df[idx,1]-=reward_offset\n",
    "    dat.append(df[idx,1])\n",
    "    jdx += 1\n",
    "\n",
    "    ave.append(ave[jdx-1]*float(jdx-1)/jdx + (1.0/jdx) * df[idx,1])\n",
    "dat = np.array(dat)\n",
    "ave = np.array(ave)"
   ]
  },
  {
   "cell_type": "code",
   "execution_count": 4,
   "metadata": {
    "collapsed": false,
    "scrolled": true
   },
   "outputs": [
    {
     "data": {
      "text/plain": [
       "<matplotlib.collections.PathCollection at 0x106ff1f50>"
      ]
     },
     "execution_count": 4,
     "metadata": {},
     "output_type": "execute_result"
    },
    {
     "data": {
      "image/png": "[encoded data removed]",
      "text/plain": [
       "<matplotlib.figure.Figure at 0x10708fc10>"
      ]
     },
     "metadata": {},
     "output_type": "display_data"
    }
   ],
   "source": [
    "fig = plt.figure(figsize=(20,8))\n",
    "ax = fig.add_subplot(211)\n",
    "ax.set_title('Average reward per cycle')\n",
    "ax.set_xlabel('cycles')\n",
    "ax.set_ylabel('average reward per cycle')\n",
    "ax.scatter(np.arange(len(dat)),dat)\n",
    "ax.scatter(np.arange(len(ave)),ave,color='red')"
   ]
  },
  {
   "cell_type": "code",
   "execution_count": 5,
   "metadata": {
    "collapsed": false
   },
   "outputs": [
    {
     "data": {
      "text/plain": [
       "<matplotlib.collections.PathCollection at 0x1023de750>"
      ]
     },
     "execution_count": 5,
     "metadata": {},
     "output_type": "execute_result"
    },
    {
     "data": {
      "image/png": "[encoded data removed]",
      "text/plain": [
       "<matplotlib.figure.Figure at 0x103d26b90>"
      ]
     },
     "metadata": {},
     "output_type": "display_data"
    }
   ],
   "source": [
    "dat=np.array(data[['reward']])\n",
    "# compute running average\n",
    "dat-=reward_offset\n",
    "cs = np.cumsum(dat).astype(float)\n",
    "for i in xrange(1,len(dat)):\n",
    "    cs[i]/=i\n",
    "\n",
    "# compute rolling average reward/cycle\n",
    "dicks = []\n",
    "window_size = 500\n",
    "tmp = np.sum(dat[0:window_size])/window_size\n",
    "for i in xrange(window_size,len(dat)):\n",
    "    tmp += float(dat[i])/window_size\n",
    "    tmp -= float(dat[i-window_size])/window_size\n",
    "    dicks.append(tmp)\n",
    "dicks = np.array(dicks)\n",
    "\n",
    "# plots\n",
    "fig = plt.figure(figsize=(20,8))\n",
    "ax = fig.add_subplot(211)\n",
    "ax.scatter(np.arange(len(dat)),cs)\n",
    "ax.scatter(np.arange(len(dat)-window_size),dicks)"
   ]
  },
  {
   "cell_type": "code",
   "execution_count": null,
   "metadata": {
    "collapsed": true
   },
   "outputs": [],
   "source": []
  }
 ],
 "metadata": {
  "kernelspec": {
   "display_name": "Python 2",
   "language": "python",
   "name": "python2"
  },
  "language_info": {
   "codemirror_mode": {
    "name": "ipython",
    "version": 2
   },
   "file_extension": ".py",
   "mimetype": "text/x-python",
   "name": "python",
   "nbconvert_exporter": "python",
   "pygments_lexer": "ipython2",
   "version": "2.7.10"
  }
 },
 "nbformat": 4,
 "nbformat_minor": 0
}
