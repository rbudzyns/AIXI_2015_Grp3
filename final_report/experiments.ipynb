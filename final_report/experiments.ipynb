{
 "cells": [
  {
   "cell_type": "code",
   "execution_count": 56,
   "metadata": {
    "collapsed": false
   },
   "outputs": [
    {
     "name": "stdout",
     "output_type": "stream",
     "text": [
      "       global_cycle  cycle  observation  reward  action  explore_on  explored  \\\n",
      "9999           9999     13       156837       0       3           1         1   \n",
      "10000         10000     14       156837       0       5           0         0   \n",
      "10001         10001     15       156837       0       2           0         0   \n",
      "10002         10002     16       156837       0       4           0         0   \n",
      "10003         10003     17       157093       4       0          -1        -1   \n",
      "\n",
      "       explore_rate_g  total reward  average reward  game_end  \n",
      "9999              0.9            15        1.071430         0  \n",
      "10000             0.9            15        1.000000         0  \n",
      "10001             0.9            15        0.937500         0  \n",
      "10002             0.9            15        0.882353         0  \n",
      "10003            -1.0            19        1.117650         0  \n"
     ]
    }
   ],
   "source": [
    "# imports and setup \n",
    "import numpy as np\n",
    "import matplotlib.pyplot as plt\n",
    "% matplotlib inline\n",
    "import pandas as pd\n",
    "\n",
    "# cheese-maze-1 and cheese-maze 2 run with exploration=0.1, cheese value = default, ct-depth=256, horizon=16.\n",
    "# cheese-maze 3: explore = 0.99, explore_decay = 0.999, cheese value = 100, ct-depth=256,horizon=16.\n",
    "# cheese-maze 4: explore = 0.99, explore_decay = 0.999, cheese value = 10, ct-depth=128, horizon = 16.\n",
    "data = pd.read_csv('../logs/tictactoe-jarryd-2.csv',sep=', ',engine='python')\n",
    "data['game_end'] = np.zeros(len(data))\n",
    "print data.tail()"
   ]
  },
  {
   "cell_type": "code",
   "execution_count": 57,
   "metadata": {
    "collapsed": false
   },
   "outputs": [
    {
     "name": "stdout",
     "output_type": "stream",
     "text": [
      "[-3 -3 -3 ..., -3 -3  1]\n"
     ]
    }
   ],
   "source": [
    "df = np.array(data[['cycle','reward','explore_on']])\n",
    "\n",
    "dat = []\n",
    "ave = [0]\n",
    "cheesemaze_offset=3\n",
    "jdx = 0\n",
    "for idx in xrange(1,len(df)):\n",
    "    if df[idx,2]==1:\n",
    "        continue\n",
    "    \n",
    "    if df[idx,2] == -1 and df[idx-1,2] == 1:\n",
    "        continue\n",
    "    df[idx,1]-=cheesemaze_offset\n",
    "    dat.append(df[idx,1])\n",
    "    jdx += 1\n",
    "\n",
    "    ave.append(ave[jdx-1]*float(jdx-1)/jdx + (1.0/jdx) * df[idx,1])\n",
    "dat = np.array(dat)\n",
    "ave = np.array(ave)\n",
    "print dat"
   ]
  },
  {
   "cell_type": "code",
   "execution_count": 49,
   "metadata": {
    "collapsed": false
   },
   "outputs": [
    {
     "name": "stdout",
     "output_type": "stream",
     "text": [
      "<type 'numpy.ndarray'>\n"
     ]
    }
   ],
   "source": [
    "for idx in xrange(1,len(df))"
   ]
  },
  {
   "cell_type": "code",
   "execution_count": 58,
   "metadata": {
    "collapsed": false,
    "scrolled": true
   },
   "outputs": [
    {
     "data": {
      "text/plain": [
       "<matplotlib.collections.PathCollection at 0x108f80250>"
      ]
     },
     "execution_count": 58,
     "metadata": {},
     "output_type": "execute_result"
    },
    {
     "data": {
      "image/png": "[encoded data removed]",
      "text/plain": [
       "<matplotlib.figure.Figure at 0x10b46a490>"
      ]
     },
     "metadata": {},
     "output_type": "display_data"
    }
   ],
   "source": [
    "fig = plt.figure(figsize=(20,8))\n",
    "ax = fig.add_subplot(211)\n",
    "ax.set_title('Average reward per cycle')\n",
    "ax.set_xlabel('cycles')\n",
    "ax.set_ylabel('average reward per cycle')\n",
    "#ax.scatter(dat[:,0],dat[:,1])\n",
    "ax.scatter(np.arange(len(dat)),dat)\n",
    "ax.scatter(np.arange(len(ave)),ave,color='red')"
   ]
  },
  {
   "cell_type": "code",
   "execution_count": null,
   "metadata": {
    "collapsed": true
   },
   "outputs": [],
   "source": []
  }
 ],
 "metadata": {
  "kernelspec": {
   "display_name": "Python 2",
   "language": "python",
   "name": "python2"
  },
  "language_info": {
   "codemirror_mode": {
    "name": "ipython",
    "version": 2
   },
   "file_extension": ".py",
   "mimetype": "text/x-python",
   "name": "python",
   "nbconvert_exporter": "python",
   "pygments_lexer": "ipython2",
   "version": "2.7.10"
  }
 },
 "nbformat": 4,
 "nbformat_minor": 0
}
