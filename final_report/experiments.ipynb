{
 "cells": [
  {
   "cell_type": "code",
   "execution_count": 56,
   "metadata": {
    "collapsed": false
   },
   "outputs": [
    {
     "name": "stdout",
     "output_type": "stream",
     "text": [
      "       global_cycle  cycle  observation  reward  action  explore_on  explored  \\\n",
      "9999           9999     13       156837       0       3           1         1   \n",
      "10000         10000     14       156837       0       5           0         0   \n",
      "10001         10001     15       156837       0       2           0         0   \n",
      "10002         10002     16       156837       0       4           0         0   \n",
      "10003         10003     17       157093       4       0          -1        -1   \n",
      "\n",
      "       explore_rate_g  total reward  average reward  game_end  \n",
      "9999              0.9            15        1.071430         0  \n",
      "10000             0.9            15        1.000000         0  \n",
      "10001             0.9            15        0.937500         0  \n",
      "10002             0.9            15        0.882353         0  \n",
      "10003            -1.0            19        1.117650         0  \n"
     ]
    }
   ],
   "source": [
    "# imports and setup \n",
    "import numpy as np\n",
    "import matplotlib.pyplot as plt\n",
    "% matplotlib inline\n",
    "import pandas as pd\n",
    "\n",
    "# cheese-maze-1 and cheese-maze 2 run with exploration=0.1, cheese value = default, ct-depth=256, horizon=16.\n",
    "# cheese-maze 3: explore = 0.99, explore_decay = 0.999, cheese value = 100, ct-depth=256,horizon=16.\n",
    "# cheese-maze 4: explore = 0.99, explore_decay = 0.999, cheese value = 10, ct-depth=128, horizon = 16.\n",
    "data = pd.read_csv('../logs/tictactoe-jarryd-2.csv',sep=', ',engine='python')\n",
    "data['game_end'] = np.zeros(len(data))\n",
    "print data.tail()"
   ]
  },
  {
   "cell_type": "code",
   "execution_count": 57,
   "metadata": {
    "collapsed": false
   },
   "outputs": [
    {
     "name": "stdout",
     "output_type": "stream",
     "text": [
      "[-3 -3 -3 ..., -3 -3  1]\n"
     ]
    }
   ],
   "source": [
    "df = np.array(data[['cycle','reward','explore_on']])\n",
    "\n",
    "dat = []\n",
    "ave = [0]\n",
    "cheesemaze_offset=3\n",
    "jdx = 0\n",
    "for idx in xrange(1,len(df)):\n",
    "    if df[idx,2]==1:\n",
    "        continue\n",
    "    \n",
    "    if df[idx,2] == -1 and df[idx-1,2] == 1:\n",
    "        continue\n",
    "    df[idx,1]-=cheesemaze_offset\n",
    "    dat.append(df[idx,1])\n",
    "    jdx += 1\n",
    "\n",
    "    ave.append(ave[jdx-1]*float(jdx-1)/jdx + (1.0/jdx) * df[idx,1])\n",
    "dat = np.array(dat)\n",
    "ave = np.array(ave)\n",
    "print dat"
   ]
  },
  {
   "cell_type": "code",
   "execution_count": 49,
   "metadata": {
    "collapsed": false
   },
   "outputs": [
    {
     "name": "stdout",
     "output_type": "stream",
     "text": [
      "<type 'numpy.ndarray'>\n"
     ]
    }
   ],
   "source": [
    "for idx in xrange(1,len(df))"
   ]
  },
  {
   "cell_type": "code",
   "execution_count": 58,
   "metadata": {
    "collapsed": false,
    "scrolled": true
   },
   "outputs": [
    {
     "data": {
      "text/plain": [
       "<matplotlib.collections.PathCollection at 0x108f80250>"
      ]
     },
     "execution_count": 58,
     "metadata": {},
     "output_type": "execute_result"
    },
    {
     "data": {
      "image/png": "[encoded data removed]",
      "text/plain": [
       "<matplotlib.figure.Figure at 0x10b46a490>"
      ]
     },
     "metadata": {},
     "output_type": "display_data"
    }
   ],
   "source": [
    "fig = plt.figure(figsize=(20,8))\n",
    "ax = fig.add_subplot(211)\n",
    "ax.set_title('Average reward per cycle')\n",
    "ax.set_xlabel('cycles')\n",
    "ax.set_ylabel('average reward per cycle')\n",
    "#ax.scatter(dat[:,0],dat[:,1])\n",
    "ax.scatter(np.arange(len(dat)),dat)\n",
    "ax.scatter(np.arange(len(ave)),ave,color='red')"
   ]
  },
  {
   "cell_type": "code",
   "execution_count": 60,
   "metadata": {
    "collapsed": true
   },
   "outputs": [],
   "source": [
    "data = pd.read_csv('../logs/cheesemaze-ryk-no-prune.csv',sep=', ',engine='python')"
   ]
  },
  {
   "cell_type": "code",
   "execution_count": 61,
   "metadata": {
    "collapsed": false
   },
   "outputs": [
    {
     "data": {
      "text/html": [
       "<div>\n",
       "<table border=\"1\" class=\"dataframe\">\n",
       "  <thead>\n",
       "    <tr style=\"text-align: right;\">\n",
       "      <th></th>\n",
       "      <th>global_cycle</th>\n",
       "      <th>cycle</th>\n",
       "      <th>observation</th>\n",
       "      <th>reward</th>\n",
       "      <th>action</th>\n",
       "      <th>explore_on</th>\n",
       "      <th>explored</th>\n",
       "      <th>explore_rate_g</th>\n",
       "      <th>total reward</th>\n",
       "      <th>average reward</th>\n",
       "      <th>end of game</th>\n",
       "    </tr>\n",
       "  </thead>\n",
       "  <tbody>\n",
       "    <tr>\n",
       "      <th>9995</th>\n",
       "      <td>9995</td>\n",
       "      <td>2</td>\n",
       "      <td>8</td>\n",
       "      <td>9</td>\n",
       "      <td>2</td>\n",
       "      <td>1</td>\n",
       "      <td>0</td>\n",
       "      <td>0.505082</td>\n",
       "      <td>60469</td>\n",
       "      <td>6.04871</td>\n",
       "      <td>0</td>\n",
       "    </tr>\n",
       "    <tr>\n",
       "      <th>9996</th>\n",
       "      <td>9996</td>\n",
       "      <td>3</td>\n",
       "      <td>5</td>\n",
       "      <td>9</td>\n",
       "      <td>0</td>\n",
       "      <td>1</td>\n",
       "      <td>0</td>\n",
       "      <td>0.505031</td>\n",
       "      <td>60478</td>\n",
       "      <td>6.04901</td>\n",
       "      <td>0</td>\n",
       "    </tr>\n",
       "    <tr>\n",
       "      <th>9997</th>\n",
       "      <td>9997</td>\n",
       "      <td>4</td>\n",
       "      <td>8</td>\n",
       "      <td>9</td>\n",
       "      <td>2</td>\n",
       "      <td>1</td>\n",
       "      <td>0</td>\n",
       "      <td>0.504981</td>\n",
       "      <td>60487</td>\n",
       "      <td>6.04930</td>\n",
       "      <td>0</td>\n",
       "    </tr>\n",
       "    <tr>\n",
       "      <th>9998</th>\n",
       "      <td>9998</td>\n",
       "      <td>5</td>\n",
       "      <td>5</td>\n",
       "      <td>9</td>\n",
       "      <td>2</td>\n",
       "      <td>1</td>\n",
       "      <td>0</td>\n",
       "      <td>0.504930</td>\n",
       "      <td>60496</td>\n",
       "      <td>6.04960</td>\n",
       "      <td>1</td>\n",
       "    </tr>\n",
       "    <tr>\n",
       "      <th>9999</th>\n",
       "      <td>9999</td>\n",
       "      <td>6</td>\n",
       "      <td>7</td>\n",
       "      <td>20</td>\n",
       "      <td>2</td>\n",
       "      <td>1</td>\n",
       "      <td>0</td>\n",
       "      <td>0.504880</td>\n",
       "      <td>60516</td>\n",
       "      <td>6.05160</td>\n",
       "      <td>1</td>\n",
       "    </tr>\n",
       "  </tbody>\n",
       "</table>\n",
       "</div>"
      ],
      "text/plain": [
       "      global_cycle  cycle  observation  reward  action  explore_on  explored  \\\n",
       "9995          9995      2            8       9       2           1         0   \n",
       "9996          9996      3            5       9       0           1         0   \n",
       "9997          9997      4            8       9       2           1         0   \n",
       "9998          9998      5            5       9       2           1         0   \n",
       "9999          9999      6            7      20       2           1         0   \n",
       "\n",
       "      explore_rate_g  total reward  average reward  end of game  \n",
       "9995        0.505082         60469         6.04871            0  \n",
       "9996        0.505031         60478         6.04901            0  \n",
       "9997        0.504981         60487         6.04930            0  \n",
       "9998        0.504930         60496         6.04960            1  \n",
       "9999        0.504880         60516         6.05160            1  "
      ]
     },
     "execution_count": 61,
     "metadata": {},
     "output_type": "execute_result"
    }
   ],
   "source": [
    "data.tail()"
   ]
  },
  {
   "cell_type": "code",
   "execution_count": 63,
   "metadata": {
    "collapsed": true
   },
   "outputs": [],
   "source": []
  },
  {
   "cell_type": "code",
   "execution_count": 79,
   "metadata": {
    "collapsed": false
   },
   "outputs": [
    {
     "name": "stdout",
     "output_type": "stream",
     "text": [
      "[  0.00000000e+00  -1.00000000e+00  -2.00000000e+00 ...,  -3.94930000e+04\n",
      "  -3.94940000e+04  -3.94840000e+04]\n",
      "[ 0.         -1.         -1.         ..., -3.95048515 -3.95019004\n",
      " -3.94879488]\n"
     ]
    }
   ],
   "source": [
    "dat=np.array(data[['reward']])\n",
    "dat-=10\n",
    "cs = np.cumsum(dat).astype(float)\n",
    "for i in xrange(1,len(dat)):\n",
    "    cs[i]/=i\n",
    "print cs"
   ]
  },
  {
   "cell_type": "code",
   "execution_count": 87,
   "metadata": {
    "collapsed": false
   },
   "outputs": [
    {
     "name": "stdout",
     "output_type": "stream",
     "text": [
      "[[ 0]\n",
      " [-1]\n",
      " [-1]\n",
      " ..., \n",
      " [-1]\n",
      " [-1]\n",
      " [10]]\n",
      "0.333333333333\n"
     ]
    },
    {
     "data": {
      "image/png": "[encoded data removed]",
      "text/plain": [
       "<matplotlib.figure.Figure at 0x10c298090>"
      ]
     },
     "metadata": {},
     "output_type": "display_data"
    }
   ],
   "source": [
    "fig = plt.figure(figsize=(20,8))\n",
    "ax = fig.add_subplot(211)\n",
    "#ax.scatter(np.arange(len(dat)),np.cumsum(dat))\n",
    "ax.scatter(np.arange(len(dat)),cs)\n",
    "\n",
    "dicks = []\n",
    "\n",
    "window_size = 500\n",
    "tmp = np.sum(dat[0:window_size])/window_size\n",
    "for i in xrange(window_size,len(dat)):\n",
    "    tmp += float(dat[i])/window_size\n",
    "    tmp -= float(dat[i-window_size])/window_size\n",
    "    dicks.append(tmp)\n",
    "dicks = np.array(dicks)\n",
    "ax.scatter(np.arange(len(dat)-500),dicks)\n",
    "print dat\n",
    "print 1./3"
   ]
  },
  {
   "cell_type": "code",
   "execution_count": null,
   "metadata": {
    "collapsed": true
   },
   "outputs": [],
   "source": []
  }
 ],
 "metadata": {
  "kernelspec": {
   "display_name": "Python 2",
   "language": "python",
   "name": "python2"
  },
  "language_info": {
   "codemirror_mode": {
    "name": "ipython",
    "version": 2
   },
   "file_extension": ".py",
   "mimetype": "text/x-python",
   "name": "python",
   "nbconvert_exporter": "python",
   "pygments_lexer": "ipython2",
   "version": "2.7.10"
  }
 },
 "nbformat": 4,
 "nbformat_minor": 0
}
