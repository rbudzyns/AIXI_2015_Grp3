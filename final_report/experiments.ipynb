{
 "cells": [
  {
   "cell_type": "code",
   "execution_count": 1,
   "metadata": {
    "collapsed": false
   },
   "outputs": [
    {
     "name": "stdout",
     "output_type": "stream",
     "text": [
      "      cycle  observation  reward  action  explored  explore_rate  \\\n",
      "9538     32            5       0       0         0      0.003815   \n",
      "9539     33            8       9       0         0      0.003434   \n",
      "9540     34            8       0       2         0      0.003090   \n",
      "9541     35            5       9       3         0      0.002781   \n",
      "9542     36            5       0       0         0      0.002503   \n",
      "\n",
      "      total reward  average reward  \n",
      "9538           154         4.66667  \n",
      "9539           163         4.79412  \n",
      "9540           163         4.65714  \n",
      "9541           172         4.77778  \n",
      "9542           172         4.64865  \n"
     ]
    }
   ],
   "source": [
    "# imports and setup \n",
    "import numpy as np\n",
    "import matplotlib.pyplot as plt\n",
    "import pandas as pd\n",
    "\n",
    "data = pd.read_csv('../log.csv',sep=', ',engine='python')\n",
    "print data.tail()"
   ]
  },
  {
   "cell_type": "code",
   "execution_count": null,
   "metadata": {
    "collapsed": false
   },
   "outputs": [],
   "source": [
    "# get cycles per episode, average reward per episode\n",
    "cycles = np.array(data[['cycle','total reward']])\n",
    "episode_lengths = []\n",
    "average_rewards = []\n",
    "for i in xrange(len(cycles)):\n",
    "    if i==1:\n",
    "        continue\n",
    "    if cycles[i,0]==1:\n",
    "        episode_lengths.append(cycles[i-1,0])\n",
    "        average_rewards.append(float(cycles[i-1,1])/cycles[i-1,0])"
   ]
  },
  {
   "cell_type": "code",
   "execution_count": null,
   "metadata": {
    "collapsed": true
   },
   "outputs": [],
   "source": [
    "fig = plt.figure()\n",
    "ax = fig.add_subplot(111)\n",
    "ax.set_title('Test plot')\n",
    "ax.plot(episode_lengths,label=\"Test\")\n",
    "#ax.plot(average_rewards,label=\"Test\")\n",
    "ax.set_ylabel(r'Test_y')\n",
    "ax.set_xlabel(r'Test_x')\n",
    "#plt.legend(loc='upper left')\n",
    "plt.show()"
   ]
  },
  {
   "cell_type": "code",
   "execution_count": null,
   "metadata": {
    "collapsed": true
   },
   "outputs": [],
   "source": []
  }
 ],
 "metadata": {
  "kernelspec": {
   "display_name": "Python 2",
   "language": "python",
   "name": "python2"
  },
  "language_info": {
   "codemirror_mode": {
    "name": "ipython",
    "version": 2
   },
   "file_extension": ".py",
   "mimetype": "text/x-python",
   "name": "python",
   "nbconvert_exporter": "python",
   "pygments_lexer": "ipython2",
   "version": "2.7.10"
  }
 },
 "nbformat": 4,
 "nbformat_minor": 0
}
